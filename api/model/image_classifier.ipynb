{
 "cells": [
  {
   "cell_type": "markdown",
   "id": "5ea0fc3c",
   "metadata": {},
   "source": [
    "##                             Sports and Media celebrities - Image Classification"
   ]
  },
  {
   "cell_type": "code",
   "execution_count": 1,
   "id": "11d3b3cf",
   "metadata": {},
   "outputs": [],
   "source": [
    "### import required modules and packages\n",
    "import numpy as np\n",
    "import pandas as pd\n",
    "import matplotlib\n",
    "from matplotlib import pyplot as plt\n",
    "%matplotlib inline\n",
    "import cv2"
   ]
  },
  {
   "cell_type": "markdown",
   "id": "4b4842b8",
   "metadata": {},
   "source": [
    "**For this image classification project, we are going to take some celebrity images. We are going to detect the face from an image, and then identify the eyes. we will accept only if the image has two eyes, or neglect.** "
   ]
  },
  {
   "cell_type": "markdown",
   "id": "334c72c4",
   "metadata": {},
   "source": [
    "**We are going to use opencv haar cascade for this pre-processing**"
   ]
  },
  {
   "cell_type": "markdown",
   "id": "cd1a92ed",
   "metadata": {},
   "source": [
    "1. Read the image from the image file path using cv2.imread\n",
    "2. Convert the RGB color image into gray image using cv2.cvtColor\n",
    "3. Use face cascadeClassifier from the haarcascade xml\n",
    "4. Detect the face from an gray image using detectmultiscale\n",
    "5. One image can have more than one face, so loop through the faces\n",
    "    1. the output face is in the format of (x,y,w,h)\n",
    "    2. Crop the gray image and color image for the size [y:y+h, x:x+w]\n",
    "    3. then use eye cascade classifier from haarcascade xml to detect eyes from the faces\n",
    "    4. return the color Region of Interest(roi_color) image only if it has two eyes"
   ]
  },
  {
   "cell_type": "code",
   "execution_count": 2,
   "id": "b264b630",
   "metadata": {},
   "outputs": [],
   "source": [
    "## this function is to crop the image from the provided image_path\n",
    "def get_cropped_image(image_path):\n",
    "    image=cv2.imread(image_path)\n",
    "    gray_image = cv2.cvtColor(image,cv2.COLOR_BGR2GRAY)\n",
    "    face_cascade = cv2.CascadeClassifier('./opencv/haarcascades/haarcascade_frontalface_default.xml')\n",
    "    faces = face_cascade.detectMultiScale(gray_image, 1.3, 5)\n",
    "    for (x,y,w,h) in faces:\n",
    "        roi_gray = gray_image[y:y+h, x:x+w]\n",
    "        roi_color = image[y:y+h, x:x+w]\n",
    "        eye_cascade = cv2.CascadeClassifier('./opencv/haarcascades/haarcascade_eye.xml')\n",
    "        eyes = eye_cascade.detectMultiScale(roi_gray)\n",
    "        if len(eyes) >=2 :\n",
    "            return roi_color"
   ]
  },
  {
   "cell_type": "markdown",
   "id": "d2322a86",
   "metadata": {},
   "source": [
    "**Next step is to define the locations/paths of the original image folder**"
   ]
  },
  {
   "cell_type": "code",
   "execution_count": 3,
   "id": "d84b743d",
   "metadata": {},
   "outputs": [],
   "source": [
    "path_to_original_data = \"./dataset/\" ### directory named dataset in the current location of this notebook"
   ]
  },
  {
   "cell_type": "markdown",
   "id": "0296d536",
   "metadata": {},
   "source": [
    "**Get the path of all sub directories inside the dataset directory, where we stored the original images of celebrities in separate folders** "
   ]
  },
  {
   "cell_type": "code",
   "execution_count": 4,
   "id": "10a6932e",
   "metadata": {},
   "outputs": [],
   "source": [
    "import os\n",
    "image_dirs = []\n",
    "for entry in os.scandir(path_to_original_data): ## scandir function is used to scan the dataset directory\n",
    "    if entry.is_dir():  # checks whether the entry is directory or a file\n",
    "        image_dirs.append(entry.path) # if directory append the path of that dir into image_dirs"
   ]
  },
  {
   "cell_type": "code",
   "execution_count": 5,
   "id": "71deb5ca",
   "metadata": {},
   "outputs": [
    {
     "name": "stdout",
     "output_type": "stream",
     "text": [
      "['./dataset/cristiano_ronaldo', './dataset/ellen_pompeo', './dataset/hrithik_roshan', './dataset/mahendra_singh_dhoni', './dataset/megan_boone', './dataset/priyanka_chopra', './dataset/roger_federer', './dataset/trisha_krishnan']\n"
     ]
    }
   ],
   "source": [
    "print(image_dirs)"
   ]
  },
  {
   "cell_type": "markdown",
   "id": "3895e30d",
   "metadata": {},
   "source": [
    "**Now lets create one cropped_image folder inside dataset folder where we are going to save our cropped images**"
   ]
  },
  {
   "cell_type": "code",
   "execution_count": 14,
   "id": "252b4fb0",
   "metadata": {},
   "outputs": [],
   "source": [
    "path_to_cropped_data = \"./dataset/cropped_folder/\"\n",
    "import shutil\n",
    "if os.path.exists(path_to_cropped_data): ## checks whether folder is available\n",
    "    shutil.rmtree(path_to_cropped_data) ## is available, delete folder and all its sub folder and files\n",
    "os.mkdir(path_to_cropped_data) ## function to create directory"
   ]
  },
  {
   "cell_type": "markdown",
   "id": "4250a347",
   "metadata": {},
   "source": [
    "**Now go through the dataset folder and sub folder of each celebrity.\n",
    "Then save the cropped image into the folder named cropped_folder by creating separate folder for each celebrity**"
   ]
  },
  {
   "cell_type": "markdown",
   "id": "3f134e5e",
   "metadata": {},
   "source": [
    "1. Go through the dataset folder and sub folder of each celebrity(locations of te celebrity folders are saved in \"image_dirs\")\n",
    "2. Get the celebrity name from the celebrity folder name \n",
    "3. Scan through the celebrity folder to get one image at a time\n",
    "    1. Crop the image using our function \"get_cropped_image\"\n",
    "    2. If image is cropped and folder is not exists then create one folder for the celebrity inside cropped_folder like \"cropped_folder/celebrity_name\"\n",
    "    3. Append the path of that folder in one list \"cropped_imag_dirs\"\n",
    "    4. Then save the cropped image inside that celebrity folder with an incremental image_name\n",
    "\n"
   ]
  },
  {
   "cell_type": "code",
   "execution_count": 15,
   "id": "f37830a9",
   "metadata": {},
   "outputs": [
    {
     "name": "stdout",
     "output_type": "stream",
     "text": [
      "Celebrity folder created ./dataset/cropped_folder/cristiano_ronaldo\n",
      "Celebrity folder created ./dataset/cropped_folder/ellen_pompeo\n",
      "Celebrity folder created ./dataset/cropped_folder/hrithik_roshan\n",
      "Celebrity folder created ./dataset/cropped_folder/mahendra_singh_dhoni\n",
      "Celebrity folder created ./dataset/cropped_folder/megan_boone\n",
      "Celebrity folder created ./dataset/cropped_folder/priyanka_chopra\n",
      "Celebrity folder created ./dataset/cropped_folder/roger_federer\n",
      "Celebrity folder created ./dataset/cropped_folder/trisha_krishnan\n"
     ]
    }
   ],
   "source": [
    "cropped_image_dirs = []\n",
    "#celebrity_cropped_image_dict = {}\n",
    "for image_dir in image_dirs:\n",
    "    count = 1\n",
    "    celebrity_name = image_dir.split('/')[-1]\n",
    "    #celebrity_cropped_image_dict[celebrity_name] = []\n",
    "    for entry in os.scandir(image_dir):\n",
    "        roi_color = get_cropped_image(entry.path)\n",
    "        if roi_color is not None:\n",
    "            cropped_celebrity_folder = path_to_cropped_data + celebrity_name \n",
    "            if not os.path.exists(cropped_celebrity_folder):\n",
    "                os.makedirs(cropped_celebrity_folder)\n",
    "                cropped_image_dirs.append(cropped_celebrity_folder)\n",
    "                print('Celebrity folder created',cropped_celebrity_folder)\n",
    "            cropped_image_name = celebrity_name + str(count) + \".png\"\n",
    "            cropped_image_path = cropped_celebrity_folder + \"/\" + cropped_image_name\n",
    "            cv2.imwrite(cropped_image_path, roi_color)\n",
    "            #celebrity_cropped_image_dict[celebrity_name].append(cropped_image_path)\n",
    "            count += 1"
   ]
  },
  {
   "cell_type": "code",
   "execution_count": 16,
   "id": "ad18c2fb",
   "metadata": {},
   "outputs": [
    {
     "name": "stdout",
     "output_type": "stream",
     "text": [
      "['./dataset/cropped_folder/cristiano_ronaldo', './dataset/cropped_folder/ellen_pompeo', './dataset/cropped_folder/hrithik_roshan', './dataset/cropped_folder/mahendra_singh_dhoni', './dataset/cropped_folder/megan_boone', './dataset/cropped_folder/priyanka_chopra', './dataset/cropped_folder/roger_federer', './dataset/cropped_folder/trisha_krishnan']\n"
     ]
    }
   ],
   "source": [
    "print(cropped_image_dirs)"
   ]
  },
  {
   "cell_type": "markdown",
   "id": "bf60ca70",
   "metadata": {},
   "source": [
    "**Now, cropped image is ready for all the images. Manually examine the cropped images and delete the unwanted images**"
   ]
  },
  {
   "cell_type": "markdown",
   "id": "d31d8e28",
   "metadata": {},
   "source": [
    "Create one dict to store all the images path for each celebrity\n",
    "1. Go through the cropped_image_dirs where we saved all the directories path of each celebrity\n",
    "2. Create one key for the celebrity name in the dict named \"celebrity_cropped_image_dict\" with empty list as value\n",
    "2. Append the path of image saved in the dict value of that celebrity"
   ]
  },
  {
   "cell_type": "code",
   "execution_count": 17,
   "id": "4a4ce961",
   "metadata": {},
   "outputs": [
    {
     "name": "stdout",
     "output_type": "stream",
     "text": [
      "./dataset/cropped_folder/cristiano_ronaldo\n",
      "./dataset/cropped_folder/cristiano_ronaldo\\cristiano_ronaldo1.png\n",
      "./dataset/cropped_folder/cristiano_ronaldo\\cristiano_ronaldo10.png\n",
      "./dataset/cropped_folder/cristiano_ronaldo\\cristiano_ronaldo11.png\n",
      "./dataset/cropped_folder/cristiano_ronaldo\\cristiano_ronaldo12.png\n",
      "./dataset/cropped_folder/cristiano_ronaldo\\cristiano_ronaldo13.png\n",
      "./dataset/cropped_folder/cristiano_ronaldo\\cristiano_ronaldo14.png\n",
      "./dataset/cropped_folder/cristiano_ronaldo\\cristiano_ronaldo15.png\n",
      "./dataset/cropped_folder/cristiano_ronaldo\\cristiano_ronaldo16.png\n",
      "./dataset/cropped_folder/cristiano_ronaldo\\cristiano_ronaldo17.png\n",
      "./dataset/cropped_folder/cristiano_ronaldo\\cristiano_ronaldo18.png\n",
      "./dataset/cropped_folder/cristiano_ronaldo\\cristiano_ronaldo19.png\n",
      "./dataset/cropped_folder/cristiano_ronaldo\\cristiano_ronaldo2.png\n",
      "./dataset/cropped_folder/cristiano_ronaldo\\cristiano_ronaldo20.png\n",
      "./dataset/cropped_folder/cristiano_ronaldo\\cristiano_ronaldo21.png\n",
      "./dataset/cropped_folder/cristiano_ronaldo\\cristiano_ronaldo22.png\n",
      "./dataset/cropped_folder/cristiano_ronaldo\\cristiano_ronaldo23.png\n",
      "./dataset/cropped_folder/cristiano_ronaldo\\cristiano_ronaldo24.png\n",
      "./dataset/cropped_folder/cristiano_ronaldo\\cristiano_ronaldo25.png\n",
      "./dataset/cropped_folder/cristiano_ronaldo\\cristiano_ronaldo26.png\n",
      "./dataset/cropped_folder/cristiano_ronaldo\\cristiano_ronaldo27.png\n",
      "./dataset/cropped_folder/cristiano_ronaldo\\cristiano_ronaldo28.png\n",
      "./dataset/cropped_folder/cristiano_ronaldo\\cristiano_ronaldo29.png\n",
      "./dataset/cropped_folder/cristiano_ronaldo\\cristiano_ronaldo3.png\n",
      "./dataset/cropped_folder/cristiano_ronaldo\\cristiano_ronaldo30.png\n",
      "./dataset/cropped_folder/cristiano_ronaldo\\cristiano_ronaldo31.png\n",
      "./dataset/cropped_folder/cristiano_ronaldo\\cristiano_ronaldo33.png\n",
      "./dataset/cropped_folder/cristiano_ronaldo\\cristiano_ronaldo34.png\n",
      "./dataset/cropped_folder/cristiano_ronaldo\\cristiano_ronaldo35.png\n",
      "./dataset/cropped_folder/cristiano_ronaldo\\cristiano_ronaldo36.png\n",
      "./dataset/cropped_folder/cristiano_ronaldo\\cristiano_ronaldo37.png\n",
      "./dataset/cropped_folder/cristiano_ronaldo\\cristiano_ronaldo38.png\n",
      "./dataset/cropped_folder/cristiano_ronaldo\\cristiano_ronaldo39.png\n",
      "./dataset/cropped_folder/cristiano_ronaldo\\cristiano_ronaldo4.png\n",
      "./dataset/cropped_folder/cristiano_ronaldo\\cristiano_ronaldo40.png\n",
      "./dataset/cropped_folder/cristiano_ronaldo\\cristiano_ronaldo41.png\n",
      "./dataset/cropped_folder/cristiano_ronaldo\\cristiano_ronaldo42.png\n",
      "./dataset/cropped_folder/cristiano_ronaldo\\cristiano_ronaldo43.png\n",
      "./dataset/cropped_folder/cristiano_ronaldo\\cristiano_ronaldo44.png\n",
      "./dataset/cropped_folder/cristiano_ronaldo\\cristiano_ronaldo45.png\n",
      "./dataset/cropped_folder/cristiano_ronaldo\\cristiano_ronaldo46.png\n",
      "./dataset/cropped_folder/cristiano_ronaldo\\cristiano_ronaldo47.png\n",
      "./dataset/cropped_folder/cristiano_ronaldo\\cristiano_ronaldo48.png\n",
      "./dataset/cropped_folder/cristiano_ronaldo\\cristiano_ronaldo49.png\n",
      "./dataset/cropped_folder/cristiano_ronaldo\\cristiano_ronaldo5.png\n",
      "./dataset/cropped_folder/cristiano_ronaldo\\cristiano_ronaldo6.png\n",
      "./dataset/cropped_folder/cristiano_ronaldo\\cristiano_ronaldo8.png\n",
      "./dataset/cropped_folder/cristiano_ronaldo\\cristiano_ronaldo9.png\n",
      "./dataset/cropped_folder/ellen_pompeo\n",
      "./dataset/cropped_folder/ellen_pompeo\\ellen_pompeo1.png\n",
      "./dataset/cropped_folder/ellen_pompeo\\ellen_pompeo11.png\n",
      "./dataset/cropped_folder/ellen_pompeo\\ellen_pompeo13.png\n",
      "./dataset/cropped_folder/ellen_pompeo\\ellen_pompeo14.png\n",
      "./dataset/cropped_folder/ellen_pompeo\\ellen_pompeo15.png\n",
      "./dataset/cropped_folder/ellen_pompeo\\ellen_pompeo16.png\n",
      "./dataset/cropped_folder/ellen_pompeo\\ellen_pompeo17.png\n",
      "./dataset/cropped_folder/ellen_pompeo\\ellen_pompeo18.png\n",
      "./dataset/cropped_folder/ellen_pompeo\\ellen_pompeo19.png\n",
      "./dataset/cropped_folder/ellen_pompeo\\ellen_pompeo2.png\n",
      "./dataset/cropped_folder/ellen_pompeo\\ellen_pompeo20.png\n",
      "./dataset/cropped_folder/ellen_pompeo\\ellen_pompeo21.png\n",
      "./dataset/cropped_folder/ellen_pompeo\\ellen_pompeo22.png\n",
      "./dataset/cropped_folder/ellen_pompeo\\ellen_pompeo23.png\n",
      "./dataset/cropped_folder/ellen_pompeo\\ellen_pompeo24.png\n",
      "./dataset/cropped_folder/ellen_pompeo\\ellen_pompeo26.png\n",
      "./dataset/cropped_folder/ellen_pompeo\\ellen_pompeo27.png\n",
      "./dataset/cropped_folder/ellen_pompeo\\ellen_pompeo3.png\n",
      "./dataset/cropped_folder/ellen_pompeo\\ellen_pompeo30.png\n",
      "./dataset/cropped_folder/ellen_pompeo\\ellen_pompeo31.png\n",
      "./dataset/cropped_folder/ellen_pompeo\\ellen_pompeo32.png\n",
      "./dataset/cropped_folder/ellen_pompeo\\ellen_pompeo33.png\n",
      "./dataset/cropped_folder/ellen_pompeo\\ellen_pompeo34.png\n",
      "./dataset/cropped_folder/ellen_pompeo\\ellen_pompeo35.png\n",
      "./dataset/cropped_folder/ellen_pompeo\\ellen_pompeo36.png\n",
      "./dataset/cropped_folder/ellen_pompeo\\ellen_pompeo37.png\n",
      "./dataset/cropped_folder/ellen_pompeo\\ellen_pompeo4.png\n",
      "./dataset/cropped_folder/ellen_pompeo\\ellen_pompeo5.png\n",
      "./dataset/cropped_folder/ellen_pompeo\\ellen_pompeo6.png\n",
      "./dataset/cropped_folder/ellen_pompeo\\ellen_pompeo7.png\n",
      "./dataset/cropped_folder/ellen_pompeo\\ellen_pompeo8.png\n",
      "./dataset/cropped_folder/ellen_pompeo\\ellen_pompeo9.png\n",
      "./dataset/cropped_folder/hrithik_roshan\n",
      "./dataset/cropped_folder/hrithik_roshan\\hrithik_roshan1.png\n",
      "./dataset/cropped_folder/hrithik_roshan\\hrithik_roshan10.png\n",
      "./dataset/cropped_folder/hrithik_roshan\\hrithik_roshan11.png\n",
      "./dataset/cropped_folder/hrithik_roshan\\hrithik_roshan12.png\n",
      "./dataset/cropped_folder/hrithik_roshan\\hrithik_roshan14.png\n",
      "./dataset/cropped_folder/hrithik_roshan\\hrithik_roshan15.png\n",
      "./dataset/cropped_folder/hrithik_roshan\\hrithik_roshan16.png\n",
      "./dataset/cropped_folder/hrithik_roshan\\hrithik_roshan17.png\n",
      "./dataset/cropped_folder/hrithik_roshan\\hrithik_roshan18.png\n",
      "./dataset/cropped_folder/hrithik_roshan\\hrithik_roshan19.png\n",
      "./dataset/cropped_folder/hrithik_roshan\\hrithik_roshan2.png\n",
      "./dataset/cropped_folder/hrithik_roshan\\hrithik_roshan20.png\n",
      "./dataset/cropped_folder/hrithik_roshan\\hrithik_roshan3.png\n",
      "./dataset/cropped_folder/hrithik_roshan\\hrithik_roshan4.png\n",
      "./dataset/cropped_folder/hrithik_roshan\\hrithik_roshan5.png\n",
      "./dataset/cropped_folder/hrithik_roshan\\hrithik_roshan6.png\n",
      "./dataset/cropped_folder/hrithik_roshan\\hrithik_roshan8.png\n",
      "./dataset/cropped_folder/hrithik_roshan\\hrithik_roshan9.png\n",
      "./dataset/cropped_folder/mahendra_singh_dhoni\n",
      "./dataset/cropped_folder/mahendra_singh_dhoni\\mahendra_singh_dhoni1.png\n",
      "./dataset/cropped_folder/mahendra_singh_dhoni\\mahendra_singh_dhoni10.png\n",
      "./dataset/cropped_folder/mahendra_singh_dhoni\\mahendra_singh_dhoni11.png\n",
      "./dataset/cropped_folder/mahendra_singh_dhoni\\mahendra_singh_dhoni12.png\n",
      "./dataset/cropped_folder/mahendra_singh_dhoni\\mahendra_singh_dhoni13.png\n",
      "./dataset/cropped_folder/mahendra_singh_dhoni\\mahendra_singh_dhoni14.png\n",
      "./dataset/cropped_folder/mahendra_singh_dhoni\\mahendra_singh_dhoni15.png\n",
      "./dataset/cropped_folder/mahendra_singh_dhoni\\mahendra_singh_dhoni16.png\n",
      "./dataset/cropped_folder/mahendra_singh_dhoni\\mahendra_singh_dhoni17.png\n",
      "./dataset/cropped_folder/mahendra_singh_dhoni\\mahendra_singh_dhoni18.png\n",
      "./dataset/cropped_folder/mahendra_singh_dhoni\\mahendra_singh_dhoni19.png\n",
      "./dataset/cropped_folder/mahendra_singh_dhoni\\mahendra_singh_dhoni2.png\n",
      "./dataset/cropped_folder/mahendra_singh_dhoni\\mahendra_singh_dhoni20.png\n",
      "./dataset/cropped_folder/mahendra_singh_dhoni\\mahendra_singh_dhoni21.png\n",
      "./dataset/cropped_folder/mahendra_singh_dhoni\\mahendra_singh_dhoni22.png\n",
      "./dataset/cropped_folder/mahendra_singh_dhoni\\mahendra_singh_dhoni23.png\n",
      "./dataset/cropped_folder/mahendra_singh_dhoni\\mahendra_singh_dhoni24.png\n",
      "./dataset/cropped_folder/mahendra_singh_dhoni\\mahendra_singh_dhoni25.png\n",
      "./dataset/cropped_folder/mahendra_singh_dhoni\\mahendra_singh_dhoni3.png\n",
      "./dataset/cropped_folder/mahendra_singh_dhoni\\mahendra_singh_dhoni4.png\n",
      "./dataset/cropped_folder/mahendra_singh_dhoni\\mahendra_singh_dhoni5.png\n",
      "./dataset/cropped_folder/mahendra_singh_dhoni\\mahendra_singh_dhoni6.png\n",
      "./dataset/cropped_folder/mahendra_singh_dhoni\\mahendra_singh_dhoni7.png\n",
      "./dataset/cropped_folder/mahendra_singh_dhoni\\mahendra_singh_dhoni8.png\n",
      "./dataset/cropped_folder/mahendra_singh_dhoni\\mahendra_singh_dhoni9.png\n",
      "./dataset/cropped_folder/megan_boone\n",
      "./dataset/cropped_folder/megan_boone\\megan_boone1.png\n",
      "./dataset/cropped_folder/megan_boone\\megan_boone10.png\n",
      "./dataset/cropped_folder/megan_boone\\megan_boone11.png\n",
      "./dataset/cropped_folder/megan_boone\\megan_boone12.png\n",
      "./dataset/cropped_folder/megan_boone\\megan_boone13.png\n",
      "./dataset/cropped_folder/megan_boone\\megan_boone14.png\n",
      "./dataset/cropped_folder/megan_boone\\megan_boone15.png\n",
      "./dataset/cropped_folder/megan_boone\\megan_boone16.png\n",
      "./dataset/cropped_folder/megan_boone\\megan_boone17.png\n",
      "./dataset/cropped_folder/megan_boone\\megan_boone18.png\n",
      "./dataset/cropped_folder/megan_boone\\megan_boone19.png\n",
      "./dataset/cropped_folder/megan_boone\\megan_boone2.png\n",
      "./dataset/cropped_folder/megan_boone\\megan_boone20.png\n",
      "./dataset/cropped_folder/megan_boone\\megan_boone21.png\n",
      "./dataset/cropped_folder/megan_boone\\megan_boone22.png\n",
      "./dataset/cropped_folder/megan_boone\\megan_boone23.png\n",
      "./dataset/cropped_folder/megan_boone\\megan_boone24.png\n",
      "./dataset/cropped_folder/megan_boone\\megan_boone25.png\n",
      "./dataset/cropped_folder/megan_boone\\megan_boone26.png\n",
      "./dataset/cropped_folder/megan_boone\\megan_boone27.png\n",
      "./dataset/cropped_folder/megan_boone\\megan_boone28.png\n",
      "./dataset/cropped_folder/megan_boone\\megan_boone29.png\n",
      "./dataset/cropped_folder/megan_boone\\megan_boone3.png\n",
      "./dataset/cropped_folder/megan_boone\\megan_boone30.png\n",
      "./dataset/cropped_folder/megan_boone\\megan_boone31.png\n",
      "./dataset/cropped_folder/megan_boone\\megan_boone32.png\n",
      "./dataset/cropped_folder/megan_boone\\megan_boone33.png\n",
      "./dataset/cropped_folder/megan_boone\\megan_boone34.png\n",
      "./dataset/cropped_folder/megan_boone\\megan_boone35.png\n",
      "./dataset/cropped_folder/megan_boone\\megan_boone36.png\n",
      "./dataset/cropped_folder/megan_boone\\megan_boone4.png\n",
      "./dataset/cropped_folder/megan_boone\\megan_boone5.png\n",
      "./dataset/cropped_folder/megan_boone\\megan_boone6.png\n",
      "./dataset/cropped_folder/megan_boone\\megan_boone7.png\n",
      "./dataset/cropped_folder/megan_boone\\megan_boone8.png\n",
      "./dataset/cropped_folder/megan_boone\\megan_boone9.png\n",
      "./dataset/cropped_folder/priyanka_chopra\n",
      "./dataset/cropped_folder/priyanka_chopra\\priyanka_chopra1.png\n",
      "./dataset/cropped_folder/priyanka_chopra\\priyanka_chopra10.png\n",
      "./dataset/cropped_folder/priyanka_chopra\\priyanka_chopra12.png\n",
      "./dataset/cropped_folder/priyanka_chopra\\priyanka_chopra14.png\n",
      "./dataset/cropped_folder/priyanka_chopra\\priyanka_chopra15.png\n",
      "./dataset/cropped_folder/priyanka_chopra\\priyanka_chopra16.png\n",
      "./dataset/cropped_folder/priyanka_chopra\\priyanka_chopra17.png\n",
      "./dataset/cropped_folder/priyanka_chopra\\priyanka_chopra18.png\n",
      "./dataset/cropped_folder/priyanka_chopra\\priyanka_chopra19.png\n",
      "./dataset/cropped_folder/priyanka_chopra\\priyanka_chopra2.png\n",
      "./dataset/cropped_folder/priyanka_chopra\\priyanka_chopra20.png\n",
      "./dataset/cropped_folder/priyanka_chopra\\priyanka_chopra21.png\n",
      "./dataset/cropped_folder/priyanka_chopra\\priyanka_chopra22.png\n",
      "./dataset/cropped_folder/priyanka_chopra\\priyanka_chopra23.png\n",
      "./dataset/cropped_folder/priyanka_chopra\\priyanka_chopra24.png\n",
      "./dataset/cropped_folder/priyanka_chopra\\priyanka_chopra3.png\n",
      "./dataset/cropped_folder/priyanka_chopra\\priyanka_chopra4.png\n",
      "./dataset/cropped_folder/priyanka_chopra\\priyanka_chopra5.png\n",
      "./dataset/cropped_folder/priyanka_chopra\\priyanka_chopra6.png\n",
      "./dataset/cropped_folder/priyanka_chopra\\priyanka_chopra8.png\n",
      "./dataset/cropped_folder/priyanka_chopra\\priyanka_chopra9.png\n",
      "./dataset/cropped_folder/roger_federer\n",
      "./dataset/cropped_folder/roger_federer\\roger_federer1.png\n",
      "./dataset/cropped_folder/roger_federer\\roger_federer10.png\n",
      "./dataset/cropped_folder/roger_federer\\roger_federer11.png\n",
      "./dataset/cropped_folder/roger_federer\\roger_federer12.png\n",
      "./dataset/cropped_folder/roger_federer\\roger_federer13.png\n",
      "./dataset/cropped_folder/roger_federer\\roger_federer14.png\n",
      "./dataset/cropped_folder/roger_federer\\roger_federer15.png\n",
      "./dataset/cropped_folder/roger_federer\\roger_federer16.png\n",
      "./dataset/cropped_folder/roger_federer\\roger_federer17.png\n",
      "./dataset/cropped_folder/roger_federer\\roger_federer18.png\n",
      "./dataset/cropped_folder/roger_federer\\roger_federer19.png\n",
      "./dataset/cropped_folder/roger_federer\\roger_federer2.png\n",
      "./dataset/cropped_folder/roger_federer\\roger_federer20.png\n",
      "./dataset/cropped_folder/roger_federer\\roger_federer21.png\n",
      "./dataset/cropped_folder/roger_federer\\roger_federer22.png\n",
      "./dataset/cropped_folder/roger_federer\\roger_federer23.png\n",
      "./dataset/cropped_folder/roger_federer\\roger_federer24.png\n",
      "./dataset/cropped_folder/roger_federer\\roger_federer25.png\n",
      "./dataset/cropped_folder/roger_federer\\roger_federer27.png\n",
      "./dataset/cropped_folder/roger_federer\\roger_federer28.png\n",
      "./dataset/cropped_folder/roger_federer\\roger_federer29.png\n",
      "./dataset/cropped_folder/roger_federer\\roger_federer3.png\n",
      "./dataset/cropped_folder/roger_federer\\roger_federer30.png\n",
      "./dataset/cropped_folder/roger_federer\\roger_federer4.png\n",
      "./dataset/cropped_folder/roger_federer\\roger_federer5.png\n",
      "./dataset/cropped_folder/roger_federer\\roger_federer6.png\n",
      "./dataset/cropped_folder/roger_federer\\roger_federer7.png\n",
      "./dataset/cropped_folder/roger_federer\\roger_federer8.png\n",
      "./dataset/cropped_folder/roger_federer\\roger_federer9.png\n",
      "./dataset/cropped_folder/trisha_krishnan\n",
      "./dataset/cropped_folder/trisha_krishnan\\trisha_krishnan1.png\n",
      "./dataset/cropped_folder/trisha_krishnan\\trisha_krishnan10.png\n",
      "./dataset/cropped_folder/trisha_krishnan\\trisha_krishnan11.png\n",
      "./dataset/cropped_folder/trisha_krishnan\\trisha_krishnan12.png\n",
      "./dataset/cropped_folder/trisha_krishnan\\trisha_krishnan13.png\n",
      "./dataset/cropped_folder/trisha_krishnan\\trisha_krishnan14.png\n",
      "./dataset/cropped_folder/trisha_krishnan\\trisha_krishnan15.png\n",
      "./dataset/cropped_folder/trisha_krishnan\\trisha_krishnan16.png\n",
      "./dataset/cropped_folder/trisha_krishnan\\trisha_krishnan17.png\n",
      "./dataset/cropped_folder/trisha_krishnan\\trisha_krishnan18.png\n",
      "./dataset/cropped_folder/trisha_krishnan\\trisha_krishnan19.png\n",
      "./dataset/cropped_folder/trisha_krishnan\\trisha_krishnan2.png\n",
      "./dataset/cropped_folder/trisha_krishnan\\trisha_krishnan20.png\n",
      "./dataset/cropped_folder/trisha_krishnan\\trisha_krishnan21.png\n",
      "./dataset/cropped_folder/trisha_krishnan\\trisha_krishnan22.png\n",
      "./dataset/cropped_folder/trisha_krishnan\\trisha_krishnan23.png\n",
      "./dataset/cropped_folder/trisha_krishnan\\trisha_krishnan24.png\n",
      "./dataset/cropped_folder/trisha_krishnan\\trisha_krishnan25.png\n",
      "./dataset/cropped_folder/trisha_krishnan\\trisha_krishnan26.png\n",
      "./dataset/cropped_folder/trisha_krishnan\\trisha_krishnan27.png\n",
      "./dataset/cropped_folder/trisha_krishnan\\trisha_krishnan28.png\n",
      "./dataset/cropped_folder/trisha_krishnan\\trisha_krishnan29.png\n",
      "./dataset/cropped_folder/trisha_krishnan\\trisha_krishnan3.png\n",
      "./dataset/cropped_folder/trisha_krishnan\\trisha_krishnan30.png\n",
      "./dataset/cropped_folder/trisha_krishnan\\trisha_krishnan31.png\n",
      "./dataset/cropped_folder/trisha_krishnan\\trisha_krishnan32.png\n",
      "./dataset/cropped_folder/trisha_krishnan\\trisha_krishnan33.png\n",
      "./dataset/cropped_folder/trisha_krishnan\\trisha_krishnan34.png\n",
      "./dataset/cropped_folder/trisha_krishnan\\trisha_krishnan35.png\n",
      "./dataset/cropped_folder/trisha_krishnan\\trisha_krishnan36.png\n",
      "./dataset/cropped_folder/trisha_krishnan\\trisha_krishnan37.png\n",
      "./dataset/cropped_folder/trisha_krishnan\\trisha_krishnan38.png\n",
      "./dataset/cropped_folder/trisha_krishnan\\trisha_krishnan4.png\n",
      "./dataset/cropped_folder/trisha_krishnan\\trisha_krishnan5.png\n",
      "./dataset/cropped_folder/trisha_krishnan\\trisha_krishnan6.png\n",
      "./dataset/cropped_folder/trisha_krishnan\\trisha_krishnan7.png\n",
      "./dataset/cropped_folder/trisha_krishnan\\trisha_krishnan8.png\n",
      "./dataset/cropped_folder/trisha_krishnan\\trisha_krishnan9.png\n"
     ]
    },
    {
     "data": {
      "text/plain": [
       "{'cristiano_ronaldo': ['./dataset/cropped_folder/cristiano_ronaldo\\\\cristiano_ronaldo1.png',\n",
       "  './dataset/cropped_folder/cristiano_ronaldo\\\\cristiano_ronaldo10.png',\n",
       "  './dataset/cropped_folder/cristiano_ronaldo\\\\cristiano_ronaldo11.png',\n",
       "  './dataset/cropped_folder/cristiano_ronaldo\\\\cristiano_ronaldo12.png',\n",
       "  './dataset/cropped_folder/cristiano_ronaldo\\\\cristiano_ronaldo13.png',\n",
       "  './dataset/cropped_folder/cristiano_ronaldo\\\\cristiano_ronaldo14.png',\n",
       "  './dataset/cropped_folder/cristiano_ronaldo\\\\cristiano_ronaldo15.png',\n",
       "  './dataset/cropped_folder/cristiano_ronaldo\\\\cristiano_ronaldo16.png',\n",
       "  './dataset/cropped_folder/cristiano_ronaldo\\\\cristiano_ronaldo17.png',\n",
       "  './dataset/cropped_folder/cristiano_ronaldo\\\\cristiano_ronaldo18.png',\n",
       "  './dataset/cropped_folder/cristiano_ronaldo\\\\cristiano_ronaldo19.png',\n",
       "  './dataset/cropped_folder/cristiano_ronaldo\\\\cristiano_ronaldo2.png',\n",
       "  './dataset/cropped_folder/cristiano_ronaldo\\\\cristiano_ronaldo20.png',\n",
       "  './dataset/cropped_folder/cristiano_ronaldo\\\\cristiano_ronaldo21.png',\n",
       "  './dataset/cropped_folder/cristiano_ronaldo\\\\cristiano_ronaldo22.png',\n",
       "  './dataset/cropped_folder/cristiano_ronaldo\\\\cristiano_ronaldo23.png',\n",
       "  './dataset/cropped_folder/cristiano_ronaldo\\\\cristiano_ronaldo24.png',\n",
       "  './dataset/cropped_folder/cristiano_ronaldo\\\\cristiano_ronaldo25.png',\n",
       "  './dataset/cropped_folder/cristiano_ronaldo\\\\cristiano_ronaldo26.png',\n",
       "  './dataset/cropped_folder/cristiano_ronaldo\\\\cristiano_ronaldo27.png',\n",
       "  './dataset/cropped_folder/cristiano_ronaldo\\\\cristiano_ronaldo28.png',\n",
       "  './dataset/cropped_folder/cristiano_ronaldo\\\\cristiano_ronaldo29.png',\n",
       "  './dataset/cropped_folder/cristiano_ronaldo\\\\cristiano_ronaldo3.png',\n",
       "  './dataset/cropped_folder/cristiano_ronaldo\\\\cristiano_ronaldo30.png',\n",
       "  './dataset/cropped_folder/cristiano_ronaldo\\\\cristiano_ronaldo31.png',\n",
       "  './dataset/cropped_folder/cristiano_ronaldo\\\\cristiano_ronaldo33.png',\n",
       "  './dataset/cropped_folder/cristiano_ronaldo\\\\cristiano_ronaldo34.png',\n",
       "  './dataset/cropped_folder/cristiano_ronaldo\\\\cristiano_ronaldo35.png',\n",
       "  './dataset/cropped_folder/cristiano_ronaldo\\\\cristiano_ronaldo36.png',\n",
       "  './dataset/cropped_folder/cristiano_ronaldo\\\\cristiano_ronaldo37.png',\n",
       "  './dataset/cropped_folder/cristiano_ronaldo\\\\cristiano_ronaldo38.png',\n",
       "  './dataset/cropped_folder/cristiano_ronaldo\\\\cristiano_ronaldo39.png',\n",
       "  './dataset/cropped_folder/cristiano_ronaldo\\\\cristiano_ronaldo4.png',\n",
       "  './dataset/cropped_folder/cristiano_ronaldo\\\\cristiano_ronaldo40.png',\n",
       "  './dataset/cropped_folder/cristiano_ronaldo\\\\cristiano_ronaldo41.png',\n",
       "  './dataset/cropped_folder/cristiano_ronaldo\\\\cristiano_ronaldo42.png',\n",
       "  './dataset/cropped_folder/cristiano_ronaldo\\\\cristiano_ronaldo43.png',\n",
       "  './dataset/cropped_folder/cristiano_ronaldo\\\\cristiano_ronaldo44.png',\n",
       "  './dataset/cropped_folder/cristiano_ronaldo\\\\cristiano_ronaldo45.png',\n",
       "  './dataset/cropped_folder/cristiano_ronaldo\\\\cristiano_ronaldo46.png',\n",
       "  './dataset/cropped_folder/cristiano_ronaldo\\\\cristiano_ronaldo47.png',\n",
       "  './dataset/cropped_folder/cristiano_ronaldo\\\\cristiano_ronaldo48.png',\n",
       "  './dataset/cropped_folder/cristiano_ronaldo\\\\cristiano_ronaldo49.png',\n",
       "  './dataset/cropped_folder/cristiano_ronaldo\\\\cristiano_ronaldo5.png',\n",
       "  './dataset/cropped_folder/cristiano_ronaldo\\\\cristiano_ronaldo6.png',\n",
       "  './dataset/cropped_folder/cristiano_ronaldo\\\\cristiano_ronaldo8.png',\n",
       "  './dataset/cropped_folder/cristiano_ronaldo\\\\cristiano_ronaldo9.png'],\n",
       " 'ellen_pompeo': ['./dataset/cropped_folder/ellen_pompeo\\\\ellen_pompeo1.png',\n",
       "  './dataset/cropped_folder/ellen_pompeo\\\\ellen_pompeo11.png',\n",
       "  './dataset/cropped_folder/ellen_pompeo\\\\ellen_pompeo13.png',\n",
       "  './dataset/cropped_folder/ellen_pompeo\\\\ellen_pompeo14.png',\n",
       "  './dataset/cropped_folder/ellen_pompeo\\\\ellen_pompeo15.png',\n",
       "  './dataset/cropped_folder/ellen_pompeo\\\\ellen_pompeo16.png',\n",
       "  './dataset/cropped_folder/ellen_pompeo\\\\ellen_pompeo17.png',\n",
       "  './dataset/cropped_folder/ellen_pompeo\\\\ellen_pompeo18.png',\n",
       "  './dataset/cropped_folder/ellen_pompeo\\\\ellen_pompeo19.png',\n",
       "  './dataset/cropped_folder/ellen_pompeo\\\\ellen_pompeo2.png',\n",
       "  './dataset/cropped_folder/ellen_pompeo\\\\ellen_pompeo20.png',\n",
       "  './dataset/cropped_folder/ellen_pompeo\\\\ellen_pompeo21.png',\n",
       "  './dataset/cropped_folder/ellen_pompeo\\\\ellen_pompeo22.png',\n",
       "  './dataset/cropped_folder/ellen_pompeo\\\\ellen_pompeo23.png',\n",
       "  './dataset/cropped_folder/ellen_pompeo\\\\ellen_pompeo24.png',\n",
       "  './dataset/cropped_folder/ellen_pompeo\\\\ellen_pompeo26.png',\n",
       "  './dataset/cropped_folder/ellen_pompeo\\\\ellen_pompeo27.png',\n",
       "  './dataset/cropped_folder/ellen_pompeo\\\\ellen_pompeo3.png',\n",
       "  './dataset/cropped_folder/ellen_pompeo\\\\ellen_pompeo30.png',\n",
       "  './dataset/cropped_folder/ellen_pompeo\\\\ellen_pompeo31.png',\n",
       "  './dataset/cropped_folder/ellen_pompeo\\\\ellen_pompeo32.png',\n",
       "  './dataset/cropped_folder/ellen_pompeo\\\\ellen_pompeo33.png',\n",
       "  './dataset/cropped_folder/ellen_pompeo\\\\ellen_pompeo34.png',\n",
       "  './dataset/cropped_folder/ellen_pompeo\\\\ellen_pompeo35.png',\n",
       "  './dataset/cropped_folder/ellen_pompeo\\\\ellen_pompeo36.png',\n",
       "  './dataset/cropped_folder/ellen_pompeo\\\\ellen_pompeo37.png',\n",
       "  './dataset/cropped_folder/ellen_pompeo\\\\ellen_pompeo4.png',\n",
       "  './dataset/cropped_folder/ellen_pompeo\\\\ellen_pompeo5.png',\n",
       "  './dataset/cropped_folder/ellen_pompeo\\\\ellen_pompeo6.png',\n",
       "  './dataset/cropped_folder/ellen_pompeo\\\\ellen_pompeo7.png',\n",
       "  './dataset/cropped_folder/ellen_pompeo\\\\ellen_pompeo8.png',\n",
       "  './dataset/cropped_folder/ellen_pompeo\\\\ellen_pompeo9.png'],\n",
       " 'hrithik_roshan': ['./dataset/cropped_folder/hrithik_roshan\\\\hrithik_roshan1.png',\n",
       "  './dataset/cropped_folder/hrithik_roshan\\\\hrithik_roshan10.png',\n",
       "  './dataset/cropped_folder/hrithik_roshan\\\\hrithik_roshan11.png',\n",
       "  './dataset/cropped_folder/hrithik_roshan\\\\hrithik_roshan12.png',\n",
       "  './dataset/cropped_folder/hrithik_roshan\\\\hrithik_roshan14.png',\n",
       "  './dataset/cropped_folder/hrithik_roshan\\\\hrithik_roshan15.png',\n",
       "  './dataset/cropped_folder/hrithik_roshan\\\\hrithik_roshan16.png',\n",
       "  './dataset/cropped_folder/hrithik_roshan\\\\hrithik_roshan17.png',\n",
       "  './dataset/cropped_folder/hrithik_roshan\\\\hrithik_roshan18.png',\n",
       "  './dataset/cropped_folder/hrithik_roshan\\\\hrithik_roshan19.png',\n",
       "  './dataset/cropped_folder/hrithik_roshan\\\\hrithik_roshan2.png',\n",
       "  './dataset/cropped_folder/hrithik_roshan\\\\hrithik_roshan20.png',\n",
       "  './dataset/cropped_folder/hrithik_roshan\\\\hrithik_roshan3.png',\n",
       "  './dataset/cropped_folder/hrithik_roshan\\\\hrithik_roshan4.png',\n",
       "  './dataset/cropped_folder/hrithik_roshan\\\\hrithik_roshan5.png',\n",
       "  './dataset/cropped_folder/hrithik_roshan\\\\hrithik_roshan6.png',\n",
       "  './dataset/cropped_folder/hrithik_roshan\\\\hrithik_roshan8.png',\n",
       "  './dataset/cropped_folder/hrithik_roshan\\\\hrithik_roshan9.png'],\n",
       " 'mahendra_singh_dhoni': ['./dataset/cropped_folder/mahendra_singh_dhoni\\\\mahendra_singh_dhoni1.png',\n",
       "  './dataset/cropped_folder/mahendra_singh_dhoni\\\\mahendra_singh_dhoni10.png',\n",
       "  './dataset/cropped_folder/mahendra_singh_dhoni\\\\mahendra_singh_dhoni11.png',\n",
       "  './dataset/cropped_folder/mahendra_singh_dhoni\\\\mahendra_singh_dhoni12.png',\n",
       "  './dataset/cropped_folder/mahendra_singh_dhoni\\\\mahendra_singh_dhoni13.png',\n",
       "  './dataset/cropped_folder/mahendra_singh_dhoni\\\\mahendra_singh_dhoni14.png',\n",
       "  './dataset/cropped_folder/mahendra_singh_dhoni\\\\mahendra_singh_dhoni15.png',\n",
       "  './dataset/cropped_folder/mahendra_singh_dhoni\\\\mahendra_singh_dhoni16.png',\n",
       "  './dataset/cropped_folder/mahendra_singh_dhoni\\\\mahendra_singh_dhoni17.png',\n",
       "  './dataset/cropped_folder/mahendra_singh_dhoni\\\\mahendra_singh_dhoni18.png',\n",
       "  './dataset/cropped_folder/mahendra_singh_dhoni\\\\mahendra_singh_dhoni19.png',\n",
       "  './dataset/cropped_folder/mahendra_singh_dhoni\\\\mahendra_singh_dhoni2.png',\n",
       "  './dataset/cropped_folder/mahendra_singh_dhoni\\\\mahendra_singh_dhoni20.png',\n",
       "  './dataset/cropped_folder/mahendra_singh_dhoni\\\\mahendra_singh_dhoni21.png',\n",
       "  './dataset/cropped_folder/mahendra_singh_dhoni\\\\mahendra_singh_dhoni22.png',\n",
       "  './dataset/cropped_folder/mahendra_singh_dhoni\\\\mahendra_singh_dhoni23.png',\n",
       "  './dataset/cropped_folder/mahendra_singh_dhoni\\\\mahendra_singh_dhoni24.png',\n",
       "  './dataset/cropped_folder/mahendra_singh_dhoni\\\\mahendra_singh_dhoni25.png',\n",
       "  './dataset/cropped_folder/mahendra_singh_dhoni\\\\mahendra_singh_dhoni3.png',\n",
       "  './dataset/cropped_folder/mahendra_singh_dhoni\\\\mahendra_singh_dhoni4.png',\n",
       "  './dataset/cropped_folder/mahendra_singh_dhoni\\\\mahendra_singh_dhoni5.png',\n",
       "  './dataset/cropped_folder/mahendra_singh_dhoni\\\\mahendra_singh_dhoni6.png',\n",
       "  './dataset/cropped_folder/mahendra_singh_dhoni\\\\mahendra_singh_dhoni7.png',\n",
       "  './dataset/cropped_folder/mahendra_singh_dhoni\\\\mahendra_singh_dhoni8.png',\n",
       "  './dataset/cropped_folder/mahendra_singh_dhoni\\\\mahendra_singh_dhoni9.png'],\n",
       " 'megan_boone': ['./dataset/cropped_folder/megan_boone\\\\megan_boone1.png',\n",
       "  './dataset/cropped_folder/megan_boone\\\\megan_boone10.png',\n",
       "  './dataset/cropped_folder/megan_boone\\\\megan_boone11.png',\n",
       "  './dataset/cropped_folder/megan_boone\\\\megan_boone12.png',\n",
       "  './dataset/cropped_folder/megan_boone\\\\megan_boone13.png',\n",
       "  './dataset/cropped_folder/megan_boone\\\\megan_boone14.png',\n",
       "  './dataset/cropped_folder/megan_boone\\\\megan_boone15.png',\n",
       "  './dataset/cropped_folder/megan_boone\\\\megan_boone16.png',\n",
       "  './dataset/cropped_folder/megan_boone\\\\megan_boone17.png',\n",
       "  './dataset/cropped_folder/megan_boone\\\\megan_boone18.png',\n",
       "  './dataset/cropped_folder/megan_boone\\\\megan_boone19.png',\n",
       "  './dataset/cropped_folder/megan_boone\\\\megan_boone2.png',\n",
       "  './dataset/cropped_folder/megan_boone\\\\megan_boone20.png',\n",
       "  './dataset/cropped_folder/megan_boone\\\\megan_boone21.png',\n",
       "  './dataset/cropped_folder/megan_boone\\\\megan_boone22.png',\n",
       "  './dataset/cropped_folder/megan_boone\\\\megan_boone23.png',\n",
       "  './dataset/cropped_folder/megan_boone\\\\megan_boone24.png',\n",
       "  './dataset/cropped_folder/megan_boone\\\\megan_boone25.png',\n",
       "  './dataset/cropped_folder/megan_boone\\\\megan_boone26.png',\n",
       "  './dataset/cropped_folder/megan_boone\\\\megan_boone27.png',\n",
       "  './dataset/cropped_folder/megan_boone\\\\megan_boone28.png',\n",
       "  './dataset/cropped_folder/megan_boone\\\\megan_boone29.png',\n",
       "  './dataset/cropped_folder/megan_boone\\\\megan_boone3.png',\n",
       "  './dataset/cropped_folder/megan_boone\\\\megan_boone30.png',\n",
       "  './dataset/cropped_folder/megan_boone\\\\megan_boone31.png',\n",
       "  './dataset/cropped_folder/megan_boone\\\\megan_boone32.png',\n",
       "  './dataset/cropped_folder/megan_boone\\\\megan_boone33.png',\n",
       "  './dataset/cropped_folder/megan_boone\\\\megan_boone34.png',\n",
       "  './dataset/cropped_folder/megan_boone\\\\megan_boone35.png',\n",
       "  './dataset/cropped_folder/megan_boone\\\\megan_boone36.png',\n",
       "  './dataset/cropped_folder/megan_boone\\\\megan_boone4.png',\n",
       "  './dataset/cropped_folder/megan_boone\\\\megan_boone5.png',\n",
       "  './dataset/cropped_folder/megan_boone\\\\megan_boone6.png',\n",
       "  './dataset/cropped_folder/megan_boone\\\\megan_boone7.png',\n",
       "  './dataset/cropped_folder/megan_boone\\\\megan_boone8.png',\n",
       "  './dataset/cropped_folder/megan_boone\\\\megan_boone9.png'],\n",
       " 'priyanka_chopra': ['./dataset/cropped_folder/priyanka_chopra\\\\priyanka_chopra1.png',\n",
       "  './dataset/cropped_folder/priyanka_chopra\\\\priyanka_chopra10.png',\n",
       "  './dataset/cropped_folder/priyanka_chopra\\\\priyanka_chopra12.png',\n",
       "  './dataset/cropped_folder/priyanka_chopra\\\\priyanka_chopra14.png',\n",
       "  './dataset/cropped_folder/priyanka_chopra\\\\priyanka_chopra15.png',\n",
       "  './dataset/cropped_folder/priyanka_chopra\\\\priyanka_chopra16.png',\n",
       "  './dataset/cropped_folder/priyanka_chopra\\\\priyanka_chopra17.png',\n",
       "  './dataset/cropped_folder/priyanka_chopra\\\\priyanka_chopra18.png',\n",
       "  './dataset/cropped_folder/priyanka_chopra\\\\priyanka_chopra19.png',\n",
       "  './dataset/cropped_folder/priyanka_chopra\\\\priyanka_chopra2.png',\n",
       "  './dataset/cropped_folder/priyanka_chopra\\\\priyanka_chopra20.png',\n",
       "  './dataset/cropped_folder/priyanka_chopra\\\\priyanka_chopra21.png',\n",
       "  './dataset/cropped_folder/priyanka_chopra\\\\priyanka_chopra22.png',\n",
       "  './dataset/cropped_folder/priyanka_chopra\\\\priyanka_chopra23.png',\n",
       "  './dataset/cropped_folder/priyanka_chopra\\\\priyanka_chopra24.png',\n",
       "  './dataset/cropped_folder/priyanka_chopra\\\\priyanka_chopra3.png',\n",
       "  './dataset/cropped_folder/priyanka_chopra\\\\priyanka_chopra4.png',\n",
       "  './dataset/cropped_folder/priyanka_chopra\\\\priyanka_chopra5.png',\n",
       "  './dataset/cropped_folder/priyanka_chopra\\\\priyanka_chopra6.png',\n",
       "  './dataset/cropped_folder/priyanka_chopra\\\\priyanka_chopra8.png',\n",
       "  './dataset/cropped_folder/priyanka_chopra\\\\priyanka_chopra9.png'],\n",
       " 'roger_federer': ['./dataset/cropped_folder/roger_federer\\\\roger_federer1.png',\n",
       "  './dataset/cropped_folder/roger_federer\\\\roger_federer10.png',\n",
       "  './dataset/cropped_folder/roger_federer\\\\roger_federer11.png',\n",
       "  './dataset/cropped_folder/roger_federer\\\\roger_federer12.png',\n",
       "  './dataset/cropped_folder/roger_federer\\\\roger_federer13.png',\n",
       "  './dataset/cropped_folder/roger_federer\\\\roger_federer14.png',\n",
       "  './dataset/cropped_folder/roger_federer\\\\roger_federer15.png',\n",
       "  './dataset/cropped_folder/roger_federer\\\\roger_federer16.png',\n",
       "  './dataset/cropped_folder/roger_federer\\\\roger_federer17.png',\n",
       "  './dataset/cropped_folder/roger_federer\\\\roger_federer18.png',\n",
       "  './dataset/cropped_folder/roger_federer\\\\roger_federer19.png',\n",
       "  './dataset/cropped_folder/roger_federer\\\\roger_federer2.png',\n",
       "  './dataset/cropped_folder/roger_federer\\\\roger_federer20.png',\n",
       "  './dataset/cropped_folder/roger_federer\\\\roger_federer21.png',\n",
       "  './dataset/cropped_folder/roger_federer\\\\roger_federer22.png',\n",
       "  './dataset/cropped_folder/roger_federer\\\\roger_federer23.png',\n",
       "  './dataset/cropped_folder/roger_federer\\\\roger_federer24.png',\n",
       "  './dataset/cropped_folder/roger_federer\\\\roger_federer25.png',\n",
       "  './dataset/cropped_folder/roger_federer\\\\roger_federer27.png',\n",
       "  './dataset/cropped_folder/roger_federer\\\\roger_federer28.png',\n",
       "  './dataset/cropped_folder/roger_federer\\\\roger_federer29.png',\n",
       "  './dataset/cropped_folder/roger_federer\\\\roger_federer3.png',\n",
       "  './dataset/cropped_folder/roger_federer\\\\roger_federer30.png',\n",
       "  './dataset/cropped_folder/roger_federer\\\\roger_federer4.png',\n",
       "  './dataset/cropped_folder/roger_federer\\\\roger_federer5.png',\n",
       "  './dataset/cropped_folder/roger_federer\\\\roger_federer6.png',\n",
       "  './dataset/cropped_folder/roger_federer\\\\roger_federer7.png',\n",
       "  './dataset/cropped_folder/roger_federer\\\\roger_federer8.png',\n",
       "  './dataset/cropped_folder/roger_federer\\\\roger_federer9.png'],\n",
       " 'trisha_krishnan': ['./dataset/cropped_folder/trisha_krishnan\\\\trisha_krishnan1.png',\n",
       "  './dataset/cropped_folder/trisha_krishnan\\\\trisha_krishnan10.png',\n",
       "  './dataset/cropped_folder/trisha_krishnan\\\\trisha_krishnan11.png',\n",
       "  './dataset/cropped_folder/trisha_krishnan\\\\trisha_krishnan12.png',\n",
       "  './dataset/cropped_folder/trisha_krishnan\\\\trisha_krishnan13.png',\n",
       "  './dataset/cropped_folder/trisha_krishnan\\\\trisha_krishnan14.png',\n",
       "  './dataset/cropped_folder/trisha_krishnan\\\\trisha_krishnan15.png',\n",
       "  './dataset/cropped_folder/trisha_krishnan\\\\trisha_krishnan16.png',\n",
       "  './dataset/cropped_folder/trisha_krishnan\\\\trisha_krishnan17.png',\n",
       "  './dataset/cropped_folder/trisha_krishnan\\\\trisha_krishnan18.png',\n",
       "  './dataset/cropped_folder/trisha_krishnan\\\\trisha_krishnan19.png',\n",
       "  './dataset/cropped_folder/trisha_krishnan\\\\trisha_krishnan2.png',\n",
       "  './dataset/cropped_folder/trisha_krishnan\\\\trisha_krishnan20.png',\n",
       "  './dataset/cropped_folder/trisha_krishnan\\\\trisha_krishnan21.png',\n",
       "  './dataset/cropped_folder/trisha_krishnan\\\\trisha_krishnan22.png',\n",
       "  './dataset/cropped_folder/trisha_krishnan\\\\trisha_krishnan23.png',\n",
       "  './dataset/cropped_folder/trisha_krishnan\\\\trisha_krishnan24.png',\n",
       "  './dataset/cropped_folder/trisha_krishnan\\\\trisha_krishnan25.png',\n",
       "  './dataset/cropped_folder/trisha_krishnan\\\\trisha_krishnan26.png',\n",
       "  './dataset/cropped_folder/trisha_krishnan\\\\trisha_krishnan27.png',\n",
       "  './dataset/cropped_folder/trisha_krishnan\\\\trisha_krishnan28.png',\n",
       "  './dataset/cropped_folder/trisha_krishnan\\\\trisha_krishnan29.png',\n",
       "  './dataset/cropped_folder/trisha_krishnan\\\\trisha_krishnan3.png',\n",
       "  './dataset/cropped_folder/trisha_krishnan\\\\trisha_krishnan30.png',\n",
       "  './dataset/cropped_folder/trisha_krishnan\\\\trisha_krishnan31.png',\n",
       "  './dataset/cropped_folder/trisha_krishnan\\\\trisha_krishnan32.png',\n",
       "  './dataset/cropped_folder/trisha_krishnan\\\\trisha_krishnan33.png',\n",
       "  './dataset/cropped_folder/trisha_krishnan\\\\trisha_krishnan34.png',\n",
       "  './dataset/cropped_folder/trisha_krishnan\\\\trisha_krishnan35.png',\n",
       "  './dataset/cropped_folder/trisha_krishnan\\\\trisha_krishnan36.png',\n",
       "  './dataset/cropped_folder/trisha_krishnan\\\\trisha_krishnan37.png',\n",
       "  './dataset/cropped_folder/trisha_krishnan\\\\trisha_krishnan38.png',\n",
       "  './dataset/cropped_folder/trisha_krishnan\\\\trisha_krishnan4.png',\n",
       "  './dataset/cropped_folder/trisha_krishnan\\\\trisha_krishnan5.png',\n",
       "  './dataset/cropped_folder/trisha_krishnan\\\\trisha_krishnan6.png',\n",
       "  './dataset/cropped_folder/trisha_krishnan\\\\trisha_krishnan7.png',\n",
       "  './dataset/cropped_folder/trisha_krishnan\\\\trisha_krishnan8.png',\n",
       "  './dataset/cropped_folder/trisha_krishnan\\\\trisha_krishnan9.png']}"
      ]
     },
     "execution_count": 17,
     "metadata": {},
     "output_type": "execute_result"
    }
   ],
   "source": [
    "celebrity_cropped_image_dict = {}\n",
    "for image_dir in cropped_image_dirs:\n",
    "    celebrity_name = image_dir.split('/')[-1]\n",
    "    cropped_image_paths = []\n",
    "    print(image_dir)\n",
    "    for entry in os.scandir(image_dir):\n",
    "        print(entry.path)\n",
    "        cropped_image_paths.append(entry.path)\n",
    "    celebrity_cropped_image_dict[celebrity_name] = cropped_image_paths\n",
    "celebrity_cropped_image_dict"
   ]
  },
  {
   "cell_type": "code",
   "execution_count": null,
   "id": "cf3cf836",
   "metadata": {},
   "outputs": [],
   "source": [
    "print(celebrity_cropped_image_dict)"
   ]
  },
  {
   "cell_type": "markdown",
   "id": "33af5a7e",
   "metadata": {},
   "source": [
    "**We are going to use cropped raw image along with wavelet transformed image to train our classifier**"
   ]
  },
  {
   "cell_type": "markdown",
   "id": "cfb35ab7",
   "metadata": {},
   "source": [
    "**Lets define X and y for our classifier**"
   ]
  },
  {
   "cell_type": "markdown",
   "id": "87e0e70c",
   "metadata": {},
   "source": [
    "**Define the output dict and create key for all celebrity with values as 0,1,etc which can be used as y for our model**"
   ]
  },
  {
   "cell_type": "code",
   "execution_count": 18,
   "id": "e2705549",
   "metadata": {},
   "outputs": [
    {
     "data": {
      "text/plain": [
       "{'cristiano_ronaldo': 0,\n",
       " 'ellen_pompeo': 1,\n",
       " 'hrithik_roshan': 2,\n",
       " 'mahendra_singh_dhoni': 3,\n",
       " 'megan_boone': 4,\n",
       " 'priyanka_chopra': 5,\n",
       " 'roger_federer': 6,\n",
       " 'trisha_krishnan': 7}"
      ]
     },
     "execution_count": 18,
     "metadata": {},
     "output_type": "execute_result"
    }
   ],
   "source": [
    "output_class_dict = {}\n",
    "count = 0\n",
    "for celebrity_name in celebrity_cropped_image_dict.keys():\n",
    "    output_class_dict[celebrity_name] = count\n",
    "    count = count + 1\n",
    "output_class_dict"
   ]
  },
  {
   "cell_type": "markdown",
   "id": "e43ebb5c",
   "metadata": {},
   "source": [
    "1. To define X, lets take the celebrity dict where we saved all the image paths(\"celebrity_cropped_image_dict\")\n",
    "2. Take the key and value from the dict..where key is celebrity name and values are all cropped image paths\n",
    "3. Iterate through the cropped image paths one by one\n",
    "4. Read the raw image and resize to fixed size\n",
    "5. Do wavelet tranform for raw image and resize the image to same size as raw image\n",
    "6. Combine raw image and wavelet trasformed image together\n",
    "7. Append the combined image to X, which is used as input to train our classifier\n",
    "8. Append values of that celebrity from output_dict to y, which is used as output to train our classifier\n"
   ]
  },
  {
   "cell_type": "code",
   "execution_count": 20,
   "id": "d4c959bc",
   "metadata": {},
   "outputs": [],
   "source": [
    "X,y = [], []\n",
    "for celebrity_name, cropped_image_paths in  celebrity_cropped_image_dict.items():\n",
    "    for cropped_image_path in cropped_image_paths:\n",
    "        image = cv2.imread(cropped_image_path)\n",
    "        scaled_raw_image = cv2.resize(image,(32,32))\n",
    "        image_haar = wavelet_transform(image,'db1',7)\n",
    "        scaled_image_haar = cv2.resize(image_haar,(32,32))\n",
    "        combined_image = np.vstack((scaled_raw_image.reshape(32*32*3,1),scaled_image_haar.reshape(32*32,1)))\n",
    "        ##raw image size is 32*32*3.. 3 is for rgb color whereas transformed image size is 32*32\n",
    "        X.append(combined_image)\n",
    "        y.append(output_class_dict[celebrity_name])"
   ]
  },
  {
   "cell_type": "code",
   "execution_count": 19,
   "id": "22d72503",
   "metadata": {},
   "outputs": [],
   "source": [
    "import numpy as np\n",
    "import pywt\n",
    "import cv2    \n",
    "\n",
    "def wavelet_transform(img, mode='haar', level=1):\n",
    "    imArray = img\n",
    "    #Datatype conversions\n",
    "    #convert to grayscale\n",
    "    imArray = cv2.cvtColor( imArray,cv2.COLOR_BGR2GRAY)\n",
    "    #convert to float\n",
    "    imArray =  np.float32(imArray)   \n",
    "    imArray /= 255;\n",
    "    # compute coefficients \n",
    "    coeffs=pywt.wavedec2(imArray, mode, level=level)\n",
    "\n",
    "    #Process Coefficients\n",
    "    coeffs_H=list(coeffs)  \n",
    "    coeffs_H[0] *= 0;  \n",
    "\n",
    "    # reconstruction\n",
    "    imArray_H=pywt.waverec2(coeffs_H, mode);\n",
    "    imArray_H *= 255;\n",
    "    imArray_H =  np.uint8(imArray_H)\n",
    "\n",
    "    return imArray_H"
   ]
  },
  {
   "cell_type": "code",
   "execution_count": 21,
   "id": "924e936e",
   "metadata": {},
   "outputs": [
    {
     "data": {
      "text/plain": [
       "246"
      ]
     },
     "execution_count": 21,
     "metadata": {},
     "output_type": "execute_result"
    }
   ],
   "source": [
    "##Total combined images in input X\n",
    "len(X)"
   ]
  },
  {
   "cell_type": "code",
   "execution_count": 22,
   "id": "f2c74707",
   "metadata": {},
   "outputs": [
    {
     "data": {
      "text/plain": [
       "4096"
      ]
     },
     "execution_count": 22,
     "metadata": {},
     "output_type": "execute_result"
    }
   ],
   "source": [
    "## the size of one image is 4096, which is equal to raw_image+transformed_image(32*32*3+32*32)\n",
    "len(X[0])"
   ]
  },
  {
   "cell_type": "code",
   "execution_count": 23,
   "id": "dcb8e0e5",
   "metadata": {},
   "outputs": [
    {
     "data": {
      "text/plain": [
       "array([[218],\n",
       "       [214],\n",
       "       [209],\n",
       "       ...,\n",
       "       [ 74],\n",
       "       [  8],\n",
       "       [  3]], dtype=uint8)"
      ]
     },
     "execution_count": 23,
     "metadata": {},
     "output_type": "execute_result"
    }
   ],
   "source": [
    "X[0]"
   ]
  },
  {
   "cell_type": "code",
   "execution_count": 24,
   "id": "1d7b2e77",
   "metadata": {},
   "outputs": [
    {
     "data": {
      "text/plain": [
       "0"
      ]
     },
     "execution_count": 24,
     "metadata": {},
     "output_type": "execute_result"
    }
   ],
   "source": [
    "## output of first image is\n",
    "y[0]"
   ]
  },
  {
   "cell_type": "code",
   "execution_count": 25,
   "id": "fe5f88de",
   "metadata": {},
   "outputs": [
    {
     "data": {
      "text/plain": [
       "(246, 4096)"
      ]
     },
     "execution_count": 25,
     "metadata": {},
     "output_type": "execute_result"
    }
   ],
   "source": [
    "## Reshape X to (len(X),4096), where len(X) is total number of images and 4096 is size of one image\n",
    "X = np.array(X).reshape(len(X),4096).astype(float)\n",
    "X.shape"
   ]
  },
  {
   "cell_type": "code",
   "execution_count": null,
   "id": "506cf514",
   "metadata": {},
   "outputs": [],
   "source": []
  },
  {
   "cell_type": "markdown",
   "id": "29cf8a76",
   "metadata": {},
   "source": [
    "**We are done with Data cleaning Process. Now we can train our model**"
   ]
  },
  {
   "cell_type": "markdown",
   "id": "0ef79cad",
   "metadata": {},
   "source": [
    "First, we are going to train our dataset with Support Vector Machine\n",
    "Then, we are going to compare with other classification models with different parameters using GridSearch"
   ]
  },
  {
   "cell_type": "code",
   "execution_count": 26,
   "id": "cce920be",
   "metadata": {},
   "outputs": [],
   "source": [
    "from sklearn.model_selection import train_test_split #to split into train and test\n",
    "from sklearn.preprocessing import StandardScaler # to scale our input and output dataset\n",
    "from sklearn.svm import SVC # svm classifier SVC\n",
    "from sklearn.pipeline import Pipeline # pipeline to group functions\n",
    "from sklearn.metrics import classification_report # gives the report"
   ]
  },
  {
   "cell_type": "code",
   "execution_count": 37,
   "id": "7767da8b",
   "metadata": {},
   "outputs": [
    {
     "data": {
      "text/html": [
       "<style>#sk-container-id-5 {color: black;background-color: white;}#sk-container-id-5 pre{padding: 0;}#sk-container-id-5 div.sk-toggleable {background-color: white;}#sk-container-id-5 label.sk-toggleable__label {cursor: pointer;display: block;width: 100%;margin-bottom: 0;padding: 0.3em;box-sizing: border-box;text-align: center;}#sk-container-id-5 label.sk-toggleable__label-arrow:before {content: \"▸\";float: left;margin-right: 0.25em;color: #696969;}#sk-container-id-5 label.sk-toggleable__label-arrow:hover:before {color: black;}#sk-container-id-5 div.sk-estimator:hover label.sk-toggleable__label-arrow:before {color: black;}#sk-container-id-5 div.sk-toggleable__content {max-height: 0;max-width: 0;overflow: hidden;text-align: left;background-color: #f0f8ff;}#sk-container-id-5 div.sk-toggleable__content pre {margin: 0.2em;color: black;border-radius: 0.25em;background-color: #f0f8ff;}#sk-container-id-5 input.sk-toggleable__control:checked~div.sk-toggleable__content {max-height: 200px;max-width: 100%;overflow: auto;}#sk-container-id-5 input.sk-toggleable__control:checked~label.sk-toggleable__label-arrow:before {content: \"▾\";}#sk-container-id-5 div.sk-estimator input.sk-toggleable__control:checked~label.sk-toggleable__label {background-color: #d4ebff;}#sk-container-id-5 div.sk-label input.sk-toggleable__control:checked~label.sk-toggleable__label {background-color: #d4ebff;}#sk-container-id-5 input.sk-hidden--visually {border: 0;clip: rect(1px 1px 1px 1px);clip: rect(1px, 1px, 1px, 1px);height: 1px;margin: -1px;overflow: hidden;padding: 0;position: absolute;width: 1px;}#sk-container-id-5 div.sk-estimator {font-family: monospace;background-color: #f0f8ff;border: 1px dotted black;border-radius: 0.25em;box-sizing: border-box;margin-bottom: 0.5em;}#sk-container-id-5 div.sk-estimator:hover {background-color: #d4ebff;}#sk-container-id-5 div.sk-parallel-item::after {content: \"\";width: 100%;border-bottom: 1px solid gray;flex-grow: 1;}#sk-container-id-5 div.sk-label:hover label.sk-toggleable__label {background-color: #d4ebff;}#sk-container-id-5 div.sk-serial::before {content: \"\";position: absolute;border-left: 1px solid gray;box-sizing: border-box;top: 0;bottom: 0;left: 50%;z-index: 0;}#sk-container-id-5 div.sk-serial {display: flex;flex-direction: column;align-items: center;background-color: white;padding-right: 0.2em;padding-left: 0.2em;position: relative;}#sk-container-id-5 div.sk-item {position: relative;z-index: 1;}#sk-container-id-5 div.sk-parallel {display: flex;align-items: stretch;justify-content: center;background-color: white;position: relative;}#sk-container-id-5 div.sk-item::before, #sk-container-id-5 div.sk-parallel-item::before {content: \"\";position: absolute;border-left: 1px solid gray;box-sizing: border-box;top: 0;bottom: 0;left: 50%;z-index: -1;}#sk-container-id-5 div.sk-parallel-item {display: flex;flex-direction: column;z-index: 1;position: relative;background-color: white;}#sk-container-id-5 div.sk-parallel-item:first-child::after {align-self: flex-end;width: 50%;}#sk-container-id-5 div.sk-parallel-item:last-child::after {align-self: flex-start;width: 50%;}#sk-container-id-5 div.sk-parallel-item:only-child::after {width: 0;}#sk-container-id-5 div.sk-dashed-wrapped {border: 1px dashed gray;margin: 0 0.4em 0.5em 0.4em;box-sizing: border-box;padding-bottom: 0.4em;background-color: white;}#sk-container-id-5 div.sk-label label {font-family: monospace;font-weight: bold;display: inline-block;line-height: 1.2em;}#sk-container-id-5 div.sk-label-container {text-align: center;}#sk-container-id-5 div.sk-container {/* jupyter's `normalize.less` sets `[hidden] { display: none; }` but bootstrap.min.css set `[hidden] { display: none !important; }` so we also need the `!important` here to be able to override the default hidden behavior on the sphinx rendered scikit-learn.org. See: https://github.com/scikit-learn/scikit-learn/issues/21755 */display: inline-block !important;position: relative;}#sk-container-id-5 div.sk-text-repr-fallback {display: none;}</style><div id=\"sk-container-id-5\" class=\"sk-top-container\"><div class=\"sk-text-repr-fallback\"><pre>Pipeline(steps=[(&#x27;scaler&#x27;, StandardScaler()), (&#x27;model_svm&#x27;, SVC(C=10))])</pre><b>In a Jupyter environment, please rerun this cell to show the HTML representation or trust the notebook. <br />On GitHub, the HTML representation is unable to render, please try loading this page with nbviewer.org.</b></div><div class=\"sk-container\" hidden><div class=\"sk-item sk-dashed-wrapped\"><div class=\"sk-label-container\"><div class=\"sk-label sk-toggleable\"><input class=\"sk-toggleable__control sk-hidden--visually\" id=\"sk-estimator-id-13\" type=\"checkbox\" ><label for=\"sk-estimator-id-13\" class=\"sk-toggleable__label sk-toggleable__label-arrow\">Pipeline</label><div class=\"sk-toggleable__content\"><pre>Pipeline(steps=[(&#x27;scaler&#x27;, StandardScaler()), (&#x27;model_svm&#x27;, SVC(C=10))])</pre></div></div></div><div class=\"sk-serial\"><div class=\"sk-item\"><div class=\"sk-estimator sk-toggleable\"><input class=\"sk-toggleable__control sk-hidden--visually\" id=\"sk-estimator-id-14\" type=\"checkbox\" ><label for=\"sk-estimator-id-14\" class=\"sk-toggleable__label sk-toggleable__label-arrow\">StandardScaler</label><div class=\"sk-toggleable__content\"><pre>StandardScaler()</pre></div></div></div><div class=\"sk-item\"><div class=\"sk-estimator sk-toggleable\"><input class=\"sk-toggleable__control sk-hidden--visually\" id=\"sk-estimator-id-15\" type=\"checkbox\" ><label for=\"sk-estimator-id-15\" class=\"sk-toggleable__label sk-toggleable__label-arrow\">SVC</label><div class=\"sk-toggleable__content\"><pre>SVC(C=10)</pre></div></div></div></div></div></div></div>"
      ],
      "text/plain": [
       "Pipeline(steps=[('scaler', StandardScaler()), ('model_svm', SVC(C=10))])"
      ]
     },
     "execution_count": 37,
     "metadata": {},
     "output_type": "execute_result"
    }
   ],
   "source": [
    "X_train,X_test,y_train,y_test = train_test_split(X,y,test_size=0.2)\n",
    "\n",
    "## we are grouping scaling function and model function into one pipeline\n",
    "## for SVC model we are using kernal as rbf and C=10\n",
    "## then we will train our pipe_scale_model with train dataset\n",
    "pipe_scale_model = Pipeline([('scaler',StandardScaler()), ('model_svm',SVC(kernel='rbf', C=10))])\n",
    "pipe_scale_model.fit(X_train,y_train)"
   ]
  },
  {
   "cell_type": "code",
   "execution_count": 28,
   "id": "8dd33e4f",
   "metadata": {},
   "outputs": [
    {
     "data": {
      "text/plain": [
       "array([[ 71.,  75.,  93., ..., 222.,   4.,  17.],\n",
       "       [ 70.,  82.,  84., ...,  55.,  66.,  62.],\n",
       "       [  0.,   0.,  27., ..., 244., 240., 235.],\n",
       "       ...,\n",
       "       [ 57.,  60.,  63., ..., 190., 168., 185.],\n",
       "       [ 28.,  32.,  52., ..., 202., 244., 134.],\n",
       "       [ 35.,  33.,  32., ..., 247., 229., 233.]])"
      ]
     },
     "execution_count": 28,
     "metadata": {},
     "output_type": "execute_result"
    }
   ],
   "source": [
    "X_train"
   ]
  },
  {
   "cell_type": "code",
   "execution_count": 29,
   "id": "1488e184",
   "metadata": {},
   "outputs": [
    {
     "data": {
      "text/plain": [
       "[2,\n",
       " 4,\n",
       " 1,\n",
       " 6,\n",
       " 7,\n",
       " 1,\n",
       " 7,\n",
       " 0,\n",
       " 4,\n",
       " 6,\n",
       " 1,\n",
       " 0,\n",
       " 6,\n",
       " 0,\n",
       " 1,\n",
       " 4,\n",
       " 7,\n",
       " 0,\n",
       " 0,\n",
       " 5,\n",
       " 2,\n",
       " 1,\n",
       " 0,\n",
       " 3,\n",
       " 1,\n",
       " 7,\n",
       " 2,\n",
       " 4,\n",
       " 4,\n",
       " 1,\n",
       " 7,\n",
       " 3,\n",
       " 5,\n",
       " 7,\n",
       " 7,\n",
       " 4,\n",
       " 0,\n",
       " 0,\n",
       " 3,\n",
       " 0,\n",
       " 6,\n",
       " 6,\n",
       " 3,\n",
       " 6,\n",
       " 0,\n",
       " 2,\n",
       " 0,\n",
       " 1,\n",
       " 1,\n",
       " 7,\n",
       " 1,\n",
       " 0,\n",
       " 6,\n",
       " 5,\n",
       " 6,\n",
       " 4,\n",
       " 0,\n",
       " 0,\n",
       " 6,\n",
       " 6,\n",
       " 1,\n",
       " 0,\n",
       " 3,\n",
       " 1,\n",
       " 4,\n",
       " 5,\n",
       " 7,\n",
       " 7,\n",
       " 1,\n",
       " 6,\n",
       " 7,\n",
       " 3,\n",
       " 3,\n",
       " 3,\n",
       " 4,\n",
       " 0,\n",
       " 5,\n",
       " 3,\n",
       " 7,\n",
       " 5,\n",
       " 0,\n",
       " 1,\n",
       " 3,\n",
       " 4,\n",
       " 7,\n",
       " 4,\n",
       " 1,\n",
       " 5,\n",
       " 3,\n",
       " 0,\n",
       " 7,\n",
       " 7,\n",
       " 7,\n",
       " 5,\n",
       " 0,\n",
       " 3,\n",
       " 0,\n",
       " 6,\n",
       " 6,\n",
       " 1,\n",
       " 0,\n",
       " 0,\n",
       " 0,\n",
       " 4,\n",
       " 5,\n",
       " 6,\n",
       " 7,\n",
       " 6,\n",
       " 4,\n",
       " 3,\n",
       " 1,\n",
       " 3,\n",
       " 4,\n",
       " 6,\n",
       " 7,\n",
       " 1,\n",
       " 6,\n",
       " 7,\n",
       " 0,\n",
       " 0,\n",
       " 3,\n",
       " 0,\n",
       " 0,\n",
       " 6,\n",
       " 7,\n",
       " 3,\n",
       " 1,\n",
       " 7,\n",
       " 0,\n",
       " 0,\n",
       " 6,\n",
       " 5,\n",
       " 4,\n",
       " 2,\n",
       " 4,\n",
       " 0,\n",
       " 0,\n",
       " 1,\n",
       " 4,\n",
       " 0,\n",
       " 2,\n",
       " 0,\n",
       " 7,\n",
       " 7,\n",
       " 7,\n",
       " 5,\n",
       " 0,\n",
       " 7,\n",
       " 6,\n",
       " 1,\n",
       " 2,\n",
       " 0,\n",
       " 4,\n",
       " 4,\n",
       " 6,\n",
       " 7,\n",
       " 5,\n",
       " 0,\n",
       " 3,\n",
       " 7,\n",
       " 6,\n",
       " 2,\n",
       " 7,\n",
       " 1,\n",
       " 7,\n",
       " 0,\n",
       " 4,\n",
       " 4,\n",
       " 3,\n",
       " 1,\n",
       " 7,\n",
       " 0,\n",
       " 5,\n",
       " 1,\n",
       " 5,\n",
       " 4,\n",
       " 5,\n",
       " 2,\n",
       " 4,\n",
       " 1,\n",
       " 2,\n",
       " 0,\n",
       " 3,\n",
       " 4,\n",
       " 4,\n",
       " 6,\n",
       " 0,\n",
       " 2,\n",
       " 6,\n",
       " 3,\n",
       " 2,\n",
       " 3,\n",
       " 3,\n",
       " 7,\n",
       " 0,\n",
       " 0]"
      ]
     },
     "execution_count": 29,
     "metadata": {},
     "output_type": "execute_result"
    }
   ],
   "source": [
    "y_train"
   ]
  },
  {
   "cell_type": "raw",
   "id": "1b43ff17",
   "metadata": {},
   "source": []
  },
  {
   "cell_type": "code",
   "execution_count": 38,
   "id": "e95267e5",
   "metadata": {},
   "outputs": [
    {
     "data": {
      "text/plain": [
       "0.76"
      ]
     },
     "execution_count": 38,
     "metadata": {},
     "output_type": "execute_result"
    }
   ],
   "source": [
    "## pipe_scale_model.score method can give the score of y_predict from X_test and y_test\n",
    "pipe_scale_model.score(X_test,y_test)"
   ]
  },
  {
   "cell_type": "code",
   "execution_count": 39,
   "id": "c443c5db",
   "metadata": {},
   "outputs": [
    {
     "name": "stdout",
     "output_type": "stream",
     "text": [
      "              precision    recall  f1-score   support\n",
      "\n",
      "           0       0.75      1.00      0.86        12\n",
      "           1       0.80      0.44      0.57         9\n",
      "           2       1.00      0.67      0.80         3\n",
      "           3       0.80      0.80      0.80         5\n",
      "           4       0.62      0.83      0.71         6\n",
      "           5       0.50      1.00      0.67         1\n",
      "           6       1.00      1.00      1.00         3\n",
      "           7       0.78      0.64      0.70        11\n",
      "\n",
      "    accuracy                           0.76        50\n",
      "   macro avg       0.78      0.80      0.76        50\n",
      "weighted avg       0.78      0.76      0.75        50\n",
      "\n"
     ]
    }
   ],
   "source": [
    "## classfication_report gives the precision, recall, f score between y_test and y_predict\n",
    "y_predict = pipe_scale_model.predict(X_test)\n",
    "print(classification_report(y_test, y_predict))"
   ]
  },
  {
   "cell_type": "markdown",
   "id": "f0a496d2",
   "metadata": {},
   "source": [
    "**Lets try different methods with different parameters using GridSearch.. We are going to find best model for our classification dataset**"
   ]
  },
  {
   "cell_type": "code",
   "execution_count": 40,
   "id": "75f2fb7e",
   "metadata": {},
   "outputs": [],
   "source": [
    "from sklearn.model_selection import GridSearchCV\n",
    "from sklearn.svm import SVC\n",
    "from sklearn.ensemble import RandomForestClassifier\n",
    "from sklearn.linear_model import LogisticRegression\n",
    "from sklearn.pipeline import make_pipeline"
   ]
  },
  {
   "cell_type": "markdown",
   "id": "87196e20",
   "metadata": {},
   "source": [
    "We are defining three classifier models and the required parameters for those  models in a dictionary model_parameters"
   ]
  },
  {
   "cell_type": "code",
   "execution_count": 41,
   "id": "9dcd9de6",
   "metadata": {},
   "outputs": [],
   "source": [
    "model_parameters = {\n",
    "    'svm':{\n",
    "        'model':SVC(gamma='auto',probability=True),\n",
    "        'params':{\n",
    "            'svc__C': [1,10,100,1000],\n",
    "            'svc__kernel': ['rbf','linear']\n",
    "        }   \n",
    "    },\n",
    "    'random_forest':{\n",
    "        'model': RandomForestClassifier(),\n",
    "        'params':{\n",
    "            'randomforestclassifier__n_estimators': [1,5,10]\n",
    "        }\n",
    "        \n",
    "    },\n",
    "    'logistic_regression':{\n",
    "        'model' : LogisticRegression(solver='liblinear',multi_class='auto'),\n",
    "        'params': {\n",
    "            'logisticregression__C': [1,5,10]\n",
    "        } \n",
    "    }   \n",
    "}"
   ]
  },
  {
   "cell_type": "markdown",
   "id": "f2f27442",
   "metadata": {},
   "source": [
    "We are going through the models one by one and finding the best parameters for each model using GridSearchCV,\n",
    "and store the results in scores and best_estimators"
   ]
  },
  {
   "cell_type": "code",
   "execution_count": 42,
   "id": "04465ae7",
   "metadata": {},
   "outputs": [
    {
     "data": {
      "text/html": [
       "<div>\n",
       "<style scoped>\n",
       "    .dataframe tbody tr th:only-of-type {\n",
       "        vertical-align: middle;\n",
       "    }\n",
       "\n",
       "    .dataframe tbody tr th {\n",
       "        vertical-align: top;\n",
       "    }\n",
       "\n",
       "    .dataframe thead th {\n",
       "        text-align: right;\n",
       "    }\n",
       "</style>\n",
       "<table border=\"1\" class=\"dataframe\">\n",
       "  <thead>\n",
       "    <tr style=\"text-align: right;\">\n",
       "      <th></th>\n",
       "      <th>model</th>\n",
       "      <th>best_score</th>\n",
       "      <th>best_params</th>\n",
       "    </tr>\n",
       "  </thead>\n",
       "  <tbody>\n",
       "    <tr>\n",
       "      <th>0</th>\n",
       "      <td>svm</td>\n",
       "      <td>0.638077</td>\n",
       "      <td>{'svc__C': 1, 'svc__kernel': 'linear'}</td>\n",
       "    </tr>\n",
       "    <tr>\n",
       "      <th>1</th>\n",
       "      <td>random_forest</td>\n",
       "      <td>0.407821</td>\n",
       "      <td>{'randomforestclassifier__n_estimators': 10}</td>\n",
       "    </tr>\n",
       "    <tr>\n",
       "      <th>2</th>\n",
       "      <td>logistic_regression</td>\n",
       "      <td>0.689487</td>\n",
       "      <td>{'logisticregression__C': 5}</td>\n",
       "    </tr>\n",
       "  </tbody>\n",
       "</table>\n",
       "</div>"
      ],
      "text/plain": [
       "                 model  best_score  \\\n",
       "0                  svm    0.638077   \n",
       "1        random_forest    0.407821   \n",
       "2  logistic_regression    0.689487   \n",
       "\n",
       "                                    best_params  \n",
       "0        {'svc__C': 1, 'svc__kernel': 'linear'}  \n",
       "1  {'randomforestclassifier__n_estimators': 10}  \n",
       "2                  {'logisticregression__C': 5}  "
      ]
     },
     "execution_count": 42,
     "metadata": {},
     "output_type": "execute_result"
    }
   ],
   "source": [
    "scores = []\n",
    "best_estimators = {}\n",
    "\n",
    "for algorithm, model_param in model_parameters.items():\n",
    "    pipeline_scale_model = make_pipeline(StandardScaler(), model_param['model'])\n",
    "    classifier = GridSearchCV(pipeline_scale_model, model_param['params'], cv=5, return_train_score=False)      \n",
    "    classifier.fit(X_train, y_train)\n",
    "    scores.append({\n",
    "        'model':algorithm,\n",
    "        'best_score':classifier.best_score_,\n",
    "        'best_params':classifier.best_params_        \n",
    "    })\n",
    "    best_estimators[algorithm] = classifier.best_estimator_\n",
    "\n",
    "model_df = pd.DataFrame(scores,columns=['model','best_score','best_params'])\n",
    "model_df\n",
    "    "
   ]
  },
  {
   "cell_type": "code",
   "execution_count": 43,
   "id": "f965d1bf",
   "metadata": {},
   "outputs": [
    {
     "name": "stdout",
     "output_type": "stream",
     "text": [
      "0.8\n",
      "0.54\n",
      "0.8\n"
     ]
    }
   ],
   "source": [
    "print(best_estimators['svm'].score(X_test,y_test))\n",
    "print(best_estimators['random_forest'].score(X_test,y_test))\n",
    "print(best_estimators['logistic_regression'].score(X_test,y_test))"
   ]
  },
  {
   "cell_type": "code",
   "execution_count": 44,
   "id": "51447eda",
   "metadata": {},
   "outputs": [],
   "source": [
    "best_classifier = best_estimators['svm']\n",
    "best_classifier_logistic = best_estimators['logistic_regression']"
   ]
  },
  {
   "cell_type": "markdown",
   "id": "9826fbba",
   "metadata": {},
   "source": [
    "Lets plot confusion matrix with best classifier \"svm\""
   ]
  },
  {
   "cell_type": "code",
   "execution_count": 45,
   "id": "035f73ab",
   "metadata": {},
   "outputs": [
    {
     "name": "stdout",
     "output_type": "stream",
     "text": [
      "[[12  0  0  0  0  0  0  0]\n",
      " [ 1  5  0  0  3  0  0  0]\n",
      " [ 0  0  3  0  0  0  0  0]\n",
      " [ 1  0  0  4  0  0  0  0]\n",
      " [ 0  0  0  0  5  0  0  1]\n",
      " [ 0  0  0  0  0  1  0  0]\n",
      " [ 0  0  0  0  0  0  3  0]\n",
      " [ 0  1  1  1  0  1  0  7]]\n"
     ]
    }
   ],
   "source": [
    "from sklearn.metrics import confusion_matrix\n",
    "cm = confusion_matrix(y_test, best_classifier.predict(X_test))\n",
    "print(cm)"
   ]
  },
  {
   "cell_type": "code",
   "execution_count": 46,
   "id": "ccb9e97a",
   "metadata": {},
   "outputs": [
    {
     "name": "stdout",
     "output_type": "stream",
     "text": [
      "[[12  0  0  0  0  0  0  0]\n",
      " [ 0  6  0  0  3  0  0  0]\n",
      " [ 0  0  3  0  0  0  0  0]\n",
      " [ 1  0  0  4  0  0  0  0]\n",
      " [ 0  0  0  0  5  0  0  1]\n",
      " [ 0  0  0  0  0  1  0  0]\n",
      " [ 0  0  0  1  0  0  2  0]\n",
      " [ 0  1  1  1  1  0  0  7]]\n"
     ]
    }
   ],
   "source": [
    "from sklearn.metrics import confusion_matrix\n",
    "cm_logistic = confusion_matrix(y_test, best_classifier_logistic.predict(X_test))\n",
    "print(cm_logistic)"
   ]
  },
  {
   "cell_type": "code",
   "execution_count": 47,
   "id": "f7b59540",
   "metadata": {},
   "outputs": [
    {
     "data": {
      "text/plain": [
       "Text(95.72222222222221, 0.5, 'Truth')"
      ]
     },
     "execution_count": 47,
     "metadata": {},
     "output_type": "execute_result"
    },
    {
     "data": {
      "image/png": "[encoded data removed]",
      "text/plain": [
       "<Figure size 1000x700 with 2 Axes>"
      ]
     },
     "metadata": {},
     "output_type": "display_data"
    }
   ],
   "source": [
    "import seaborn as sn\n",
    "plt.figure(figsize = (10,7))\n",
    "sn.heatmap(cm, annot=True)\n",
    "plt.xlabel('Predicted')\n",
    "plt.ylabel('Truth')"
   ]
  },
  {
   "cell_type": "markdown",
   "id": "a72a4c99",
   "metadata": {},
   "source": [
    "**Lets save the trained Model using Joblib**"
   ]
  },
  {
   "cell_type": "code",
   "execution_count": 50,
   "id": "6eed8a48",
   "metadata": {},
   "outputs": [
    {
     "data": {
      "text/plain": [
       "['logistic_saved_model.pkl']"
      ]
     },
     "execution_count": 50,
     "metadata": {},
     "output_type": "execute_result"
    }
   ],
   "source": [
    "import joblib\n",
    "##to save model as a pickle in a file\n",
    "joblib.dump(best_classifier, 'svm_saved_model.pkl')\n",
    "joblib.dump(best_classifier_logistic, 'logistic_saved_model.pkl')"
   ]
  },
  {
   "cell_type": "code",
   "execution_count": 52,
   "id": "13174cb3",
   "metadata": {},
   "outputs": [],
   "source": [
    "import pickle\n",
    "with open('svm_classifier_model.pickle','wb') as f:\n",
    "    pickle.dump(best_classifier,f)"
   ]
  },
  {
   "cell_type": "markdown",
   "id": "7061619d",
   "metadata": {},
   "source": [
    "**Save the output_class_dict into json file**"
   ]
  },
  {
   "cell_type": "code",
   "execution_count": 51,
   "id": "c74f100c",
   "metadata": {},
   "outputs": [],
   "source": [
    "import json\n",
    "with open(\"class_dictionary.json\",\"w\") as f:\n",
    "    f.write(json.dumps(output_class_dict))"
   ]
  },
  {
   "cell_type": "code",
   "execution_count": null,
   "id": "b93625a1",
   "metadata": {},
   "outputs": [],
   "source": []
  },
  {
   "cell_type": "code",
   "execution_count": null,
   "id": "046ef0b0",
   "metadata": {},
   "outputs": [],
   "source": []
  }
 ],
 "metadata": {
  "kernelspec": {
   "display_name": "Python 3.7.0 (conda)",
   "language": "python",
   "name": "python3"
  },
  "language_info": {
   "codemirror_mode": {
    "name": "ipython",
    "version": 3
   },
   "file_extension": ".py",
   "mimetype": "text/x-python",
   "name": "python",
   "nbconvert_exporter": "python",
   "pygments_lexer": "ipython3",
   "version": "3.7.0"
  },
  "vscode": {
   "interpreter": {
    "hash": "cade3fb77baf61ce4c6f25adda65c01af0c24fa7c6586c22c1268de1e078d4cf"
   }
  }
 },
 "nbformat": 4,
 "nbformat_minor": 5
}
